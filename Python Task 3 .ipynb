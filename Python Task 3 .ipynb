{
 "cells": [
  {
   "cell_type": "code",
   "execution_count": 1,
   "id": "ad92e15a",
   "metadata": {},
   "outputs": [
    {
     "name": "stdout",
     "output_type": "stream",
     "text": [
      "Requirement already satisfied: binarytree in c:\\users\\u2021605\\anaconda3\\lib\\site-packages (6.5.1)\n",
      "Requirement already satisfied: graphviz in c:\\users\\u2021605\\anaconda3\\lib\\site-packages (from binarytree) (0.20.1)\n",
      "Requirement already satisfied: setuptools>=60.8.2 in c:\\users\\u2021605\\anaconda3\\lib\\site-packages (from binarytree) (63.4.1)\n",
      "Requirement already satisfied: setuptools-scm[toml]>=5.0.1 in c:\\users\\u2021605\\anaconda3\\lib\\site-packages (from binarytree) (7.1.0)\n",
      "Requirement already satisfied: tomli>=1.0.0 in c:\\users\\u2021605\\anaconda3\\lib\\site-packages (from setuptools-scm[toml]>=5.0.1->binarytree) (2.0.1)\n",
      "Requirement already satisfied: typing-extensions in c:\\users\\u2021605\\anaconda3\\lib\\site-packages (from setuptools-scm[toml]>=5.0.1->binarytree) (4.3.0)\n",
      "Requirement already satisfied: packaging>=20.0 in c:\\users\\u2021605\\anaconda3\\lib\\site-packages (from setuptools-scm[toml]>=5.0.1->binarytree) (21.3)\n",
      "Requirement already satisfied: pyparsing!=3.0.5,>=2.0.2 in c:\\users\\u2021605\\anaconda3\\lib\\site-packages (from packaging>=20.0->setuptools-scm[toml]>=5.0.1->binarytree) (3.0.9)\n",
      "Note: you may need to restart the kernel to use updated packages.\n"
     ]
    }
   ],
   "source": [
    "pip install binarytree --upgrade"
   ]
  },
  {
   "cell_type": "code",
   "execution_count": 2,
   "id": "ec37df60",
   "metadata": {},
   "outputs": [
    {
     "name": "stdout",
     "output_type": "stream",
     "text": [
      "\n",
      "          __________30_________\n",
      "         /                     \\\n",
      "    ____26___               ____38___\n",
      "   /         \\             /         \\\n",
      "  12         _28         _36         _42\n",
      " /  \\       /   \\       /   \\       /   \\\n",
      "8    20    27    29    35    37    39    50\n",
      "\n"
     ]
    }
   ],
   "source": [
    "from binarytree import Node\n",
    "\n",
    "root = Node(30)\n",
    "root.left = Node(26)\n",
    "root.right = Node(38)\n",
    "root.left.left = Node(12)\n",
    "root.left.right = Node(28)\n",
    "root.right.left = Node(36)\n",
    "root.right.right = Node(42)\n",
    "root.left.left.left = Node(8)\n",
    "root.left.left.right = Node(20)\n",
    "root.left.right.left = Node(27)\n",
    "root.left.right.right = Node(29)\n",
    "root.right.left.left = Node(35)\n",
    "root.right.left.right = Node(37)\n",
    "root.right.right.left = Node(39)\n",
    "root.right.right.right = Node(50)\n",
    "print(root)\n"
   ]
  },
  {
   "cell_type": "code",
   "execution_count": 3,
   "id": "c917c9cd",
   "metadata": {},
   "outputs": [
    {
     "name": "stdout",
     "output_type": "stream",
     "text": [
      "Requirement already satisfied: anytree in c:\\users\\u2021605\\anaconda3\\lib\\site-packages (2.8.0)\n",
      "Requirement already satisfied: six>=1.9.0 in c:\\users\\u2021605\\anaconda3\\lib\\site-packages (from anytree) (1.16.0)\n"
     ]
    }
   ],
   "source": [
    "!pip install anytree"
   ]
  },
  {
   "cell_type": "code",
   "execution_count": 4,
   "id": "2e5c5da9",
   "metadata": {},
   "outputs": [
    {
     "name": "stdout",
     "output_type": "stream",
     "text": [
      "30\n",
      "├── 26\n",
      "│   ├── 12\n",
      "│   │   ├── 8\n",
      "│   │   └── 20\n",
      "│   └── 28\n",
      "│       ├── 27\n",
      "│       └── 29\n",
      "└── 38\n",
      "    ├── 36\n",
      "    │   ├── 35\n",
      "    │   └── 37\n",
      "    └── 42\n",
      "        ├── 39\n",
      "        └── 50\n"
     ]
    }
   ],
   "source": [
    "from anytree import Node, RenderTree\n",
    "udo = Node(30)\n",
    "marc = Node(26, parent=udo)\n",
    "lian = Node(38, parent=udo)\n",
    "dan = Node(12, parent=marc)\n",
    "jet = Node(28, parent=marc)\n",
    "jan = Node(36, parent=lian)\n",
    "joe = Node(42, parent=lian)\n",
    "abc = Node(8, parent=dan)\n",
    "de = Node(20, parent=dan)\n",
    "fgh = Node(27, parent=jet)\n",
    "ijk = Node(29, parent=jet)\n",
    "lmn = Node(35, parent=jan)\n",
    "opq = Node(37, parent=jan)\n",
    "rst = Node(39, parent=joe)\n",
    "uvw = Node(50, parent=joe)\n",
    "for pre, fill, node in RenderTree(udo):\n",
    "    print(\"%s%s\" % (pre, node.name))"
   ]
  },
  {
   "cell_type": "code",
   "execution_count": 5,
   "id": "cbf9ed9e",
   "metadata": {},
   "outputs": [
    {
     "name": "stdout",
     "output_type": "stream",
     "text": [
      "Requirement already satisfied: treelib in c:\\users\\u2021605\\anaconda3\\lib\\site-packages (1.6.1)\n",
      "Requirement already satisfied: future in c:\\users\\u2021605\\anaconda3\\lib\\site-packages (from treelib) (0.18.2)\n"
     ]
    }
   ],
   "source": [
    "!pip install treelib"
   ]
  },
  {
   "cell_type": "code",
   "execution_count": 6,
   "id": "4cfee010",
   "metadata": {},
   "outputs": [
    {
     "name": "stdout",
     "output_type": "stream",
     "text": [
      "30\n",
      "├── 26\n",
      "│   ├── 12\n",
      "│   │   ├── 8\n",
      "│   │   └── 20\n",
      "│   └── 28\n",
      "│       ├── 27\n",
      "│       └── 29\n",
      "└── 38\n",
      "    ├── 36\n",
      "    │   ├── 29\n",
      "    │   └── 29\n",
      "    └── 42\n",
      "        ├── 29\n",
      "        └── 29\n",
      "\n"
     ]
    }
   ],
   "source": [
    "from treelib import Node, Tree\n",
    "tree = Tree()\n",
    "tree.create_node(30, \"harry\")  # root node\n",
    "tree.create_node(26, \"jane\", parent=\"harry\")\n",
    "tree.create_node(38, \"bill\", parent=\"harry\")\n",
    "tree.create_node(12, \"diane\", parent=\"jane\")\n",
    "tree.create_node(28, \"mary\", parent=\"jane\")\n",
    "tree.create_node(36, \"mark\", parent=\"bill\")\n",
    "tree.create_node(42, \"lmn\", parent=\"bill\")\n",
    "tree.create_node(8, \"abc\", parent=\"diane\")\n",
    "tree.create_node(20, \"de\", parent=\"diane\")\n",
    "tree.create_node(27, \"fgh\", parent=\"mary\")\n",
    "tree.create_node(29, \"ijk\", parent=\"mary\")\n",
    "tree.create_node(29, \"opq\", parent=\"mark\")\n",
    "tree.create_node(29, \"rst\", parent=\"mark\")\n",
    "tree.create_node(29, \"uvw\", parent=\"lmn\")\n",
    "tree.create_node(29, \"xyz\", parent=\"lmn\")\n",
    "tree.show()"
   ]
  },
  {
   "cell_type": "code",
   "execution_count": 1,
   "id": "04da42d9",
   "metadata": {},
   "outputs": [],
   "source": [
    "from turtle import *\n",
    "setup(800, 500)\n",
    "bgcolor(\"#01411C\")\n",
    "speed(0)\n",
    "\n",
    "# White Rectangle\n",
    "penup()\n",
    "goto(-400, 250)\n",
    "pendown()\n",
    "color(\"white\")\n",
    "begin_fill()\n",
    "for i in range(2):\n",
    "    forward(200)\n",
    "    right(90)\n",
    "    forward(500)\n",
    "    right(90)\n",
    "end_fill()\n",
    "\n",
    "# Moon Shape\n",
    "penup()\n",
    "goto(50, -135)\n",
    "pendown()\n",
    "begin_fill()\n",
    "circle(150)\n",
    "end_fill()\n",
    "\n",
    "penup()\n",
    "goto(90, -80)\n",
    "pendown()\n",
    "color(\"#01411C\")\n",
    "begin_fill()\n",
    "circle(130)\n",
    "end_fill()\n",
    "\n",
    "# Star\n",
    "penup()\n",
    "goto(110, 90)\n",
    "pendown()\n",
    "color(\"white\")\n",
    "begin_fill()\n",
    "for i in range(5):\n",
    "    forward(90)\n",
    "    left(144)\n",
    "end_fill()\n",
    "\n",
    "hideturtle()\n"
   ]
  },
  {
   "cell_type": "code",
   "execution_count": 8,
   "id": "c713d3c2",
   "metadata": {},
   "outputs": [
    {
     "name": "stdout",
     "output_type": "stream",
     "text": [
      "Requirement already satisfied: graphviz in c:\\users\\u2021605\\anaconda3\\lib\\site-packages (0.20.1)\n",
      "Note: you may need to restart the kernel to use updated packages.\n"
     ]
    }
   ],
   "source": [
    "pip install graphviz"
   ]
  },
  {
   "cell_type": "code",
   "execution_count": 9,
   "id": "8d7ec070",
   "metadata": {},
   "outputs": [
    {
     "ename": "FileNotFoundError",
     "evalue": "[WinError 2] The system cannot find the file specified",
     "output_type": "error",
     "traceback": [
      "\u001b[1;31m---------------------------------------------------------------------------\u001b[0m",
      "\u001b[1;31mFileNotFoundError\u001b[0m                         Traceback (most recent call last)",
      "\u001b[1;32m~\\AppData\\Local\\Temp\\ipykernel_9520\\131487007.py\u001b[0m in \u001b[0;36m<module>\u001b[1;34m\u001b[0m\n\u001b[0;32m      1\u001b[0m \u001b[1;32mfrom\u001b[0m \u001b[0manytree\u001b[0m\u001b[1;33m.\u001b[0m\u001b[0mexporter\u001b[0m \u001b[1;32mimport\u001b[0m \u001b[0mDotExporter\u001b[0m\u001b[1;33m\u001b[0m\u001b[1;33m\u001b[0m\u001b[0m\n\u001b[1;32m----> 2\u001b[1;33m \u001b[0mDotExporter\u001b[0m\u001b[1;33m(\u001b[0m\u001b[0mudo\u001b[0m\u001b[1;33m)\u001b[0m\u001b[1;33m.\u001b[0m\u001b[0mto_picture\u001b[0m\u001b[1;33m(\u001b[0m\u001b[1;34m\"udo.png\"\u001b[0m\u001b[1;33m)\u001b[0m\u001b[1;33m\u001b[0m\u001b[1;33m\u001b[0m\u001b[0m\n\u001b[0m",
      "\u001b[1;32m~\\Anaconda3\\lib\\site-packages\\anytree\\exporter\\dotexporter.py\u001b[0m in \u001b[0;36mto_picture\u001b[1;34m(self, filename)\u001b[0m\n\u001b[0;32m    270\u001b[0m             \u001b[0mdotfile\u001b[0m\u001b[1;33m.\u001b[0m\u001b[0mflush\u001b[0m\u001b[1;33m(\u001b[0m\u001b[1;33m)\u001b[0m\u001b[1;33m\u001b[0m\u001b[1;33m\u001b[0m\u001b[0m\n\u001b[0;32m    271\u001b[0m             \u001b[0mcmd\u001b[0m \u001b[1;33m=\u001b[0m \u001b[1;33m[\u001b[0m\u001b[1;34m\"dot\"\u001b[0m\u001b[1;33m,\u001b[0m \u001b[0mdotfilename\u001b[0m\u001b[1;33m,\u001b[0m \u001b[1;34m\"-T\"\u001b[0m\u001b[1;33m,\u001b[0m \u001b[0mfileformat\u001b[0m\u001b[1;33m,\u001b[0m \u001b[1;34m\"-o\"\u001b[0m\u001b[1;33m,\u001b[0m \u001b[0mfilename\u001b[0m\u001b[1;33m]\u001b[0m\u001b[1;33m\u001b[0m\u001b[1;33m\u001b[0m\u001b[0m\n\u001b[1;32m--> 272\u001b[1;33m             \u001b[0mcheck_call\u001b[0m\u001b[1;33m(\u001b[0m\u001b[0mcmd\u001b[0m\u001b[1;33m)\u001b[0m\u001b[1;33m\u001b[0m\u001b[1;33m\u001b[0m\u001b[0m\n\u001b[0m\u001b[0;32m    273\u001b[0m         \u001b[1;32mtry\u001b[0m\u001b[1;33m:\u001b[0m\u001b[1;33m\u001b[0m\u001b[1;33m\u001b[0m\u001b[0m\n\u001b[0;32m    274\u001b[0m             \u001b[0mremove\u001b[0m\u001b[1;33m(\u001b[0m\u001b[0mdotfilename\u001b[0m\u001b[1;33m)\u001b[0m\u001b[1;33m\u001b[0m\u001b[1;33m\u001b[0m\u001b[0m\n",
      "\u001b[1;32m~\\Anaconda3\\lib\\subprocess.py\u001b[0m in \u001b[0;36mcheck_call\u001b[1;34m(*popenargs, **kwargs)\u001b[0m\n\u001b[0;32m    366\u001b[0m     \u001b[0mcheck_call\u001b[0m\u001b[1;33m(\u001b[0m\u001b[1;33m[\u001b[0m\u001b[1;34m\"ls\"\u001b[0m\u001b[1;33m,\u001b[0m \u001b[1;34m\"-l\"\u001b[0m\u001b[1;33m]\u001b[0m\u001b[1;33m)\u001b[0m\u001b[1;33m\u001b[0m\u001b[1;33m\u001b[0m\u001b[0m\n\u001b[0;32m    367\u001b[0m     \"\"\"\n\u001b[1;32m--> 368\u001b[1;33m     \u001b[0mretcode\u001b[0m \u001b[1;33m=\u001b[0m \u001b[0mcall\u001b[0m\u001b[1;33m(\u001b[0m\u001b[1;33m*\u001b[0m\u001b[0mpopenargs\u001b[0m\u001b[1;33m,\u001b[0m \u001b[1;33m**\u001b[0m\u001b[0mkwargs\u001b[0m\u001b[1;33m)\u001b[0m\u001b[1;33m\u001b[0m\u001b[1;33m\u001b[0m\u001b[0m\n\u001b[0m\u001b[0;32m    369\u001b[0m     \u001b[1;32mif\u001b[0m \u001b[0mretcode\u001b[0m\u001b[1;33m:\u001b[0m\u001b[1;33m\u001b[0m\u001b[1;33m\u001b[0m\u001b[0m\n\u001b[0;32m    370\u001b[0m         \u001b[0mcmd\u001b[0m \u001b[1;33m=\u001b[0m \u001b[0mkwargs\u001b[0m\u001b[1;33m.\u001b[0m\u001b[0mget\u001b[0m\u001b[1;33m(\u001b[0m\u001b[1;34m\"args\"\u001b[0m\u001b[1;33m)\u001b[0m\u001b[1;33m\u001b[0m\u001b[1;33m\u001b[0m\u001b[0m\n",
      "\u001b[1;32m~\\Anaconda3\\lib\\subprocess.py\u001b[0m in \u001b[0;36mcall\u001b[1;34m(timeout, *popenargs, **kwargs)\u001b[0m\n\u001b[0;32m    347\u001b[0m     \u001b[0mretcode\u001b[0m \u001b[1;33m=\u001b[0m \u001b[0mcall\u001b[0m\u001b[1;33m(\u001b[0m\u001b[1;33m[\u001b[0m\u001b[1;34m\"ls\"\u001b[0m\u001b[1;33m,\u001b[0m \u001b[1;34m\"-l\"\u001b[0m\u001b[1;33m]\u001b[0m\u001b[1;33m)\u001b[0m\u001b[1;33m\u001b[0m\u001b[1;33m\u001b[0m\u001b[0m\n\u001b[0;32m    348\u001b[0m     \"\"\"\n\u001b[1;32m--> 349\u001b[1;33m     \u001b[1;32mwith\u001b[0m \u001b[0mPopen\u001b[0m\u001b[1;33m(\u001b[0m\u001b[1;33m*\u001b[0m\u001b[0mpopenargs\u001b[0m\u001b[1;33m,\u001b[0m \u001b[1;33m**\u001b[0m\u001b[0mkwargs\u001b[0m\u001b[1;33m)\u001b[0m \u001b[1;32mas\u001b[0m \u001b[0mp\u001b[0m\u001b[1;33m:\u001b[0m\u001b[1;33m\u001b[0m\u001b[1;33m\u001b[0m\u001b[0m\n\u001b[0m\u001b[0;32m    350\u001b[0m         \u001b[1;32mtry\u001b[0m\u001b[1;33m:\u001b[0m\u001b[1;33m\u001b[0m\u001b[1;33m\u001b[0m\u001b[0m\n\u001b[0;32m    351\u001b[0m             \u001b[1;32mreturn\u001b[0m \u001b[0mp\u001b[0m\u001b[1;33m.\u001b[0m\u001b[0mwait\u001b[0m\u001b[1;33m(\u001b[0m\u001b[0mtimeout\u001b[0m\u001b[1;33m=\u001b[0m\u001b[0mtimeout\u001b[0m\u001b[1;33m)\u001b[0m\u001b[1;33m\u001b[0m\u001b[1;33m\u001b[0m\u001b[0m\n",
      "\u001b[1;32m~\\Anaconda3\\lib\\subprocess.py\u001b[0m in \u001b[0;36m__init__\u001b[1;34m(self, args, bufsize, executable, stdin, stdout, stderr, preexec_fn, close_fds, shell, cwd, env, universal_newlines, startupinfo, creationflags, restore_signals, start_new_session, pass_fds, user, group, extra_groups, encoding, errors, text, umask)\u001b[0m\n\u001b[0;32m    949\u001b[0m                             encoding=encoding, errors=errors)\n\u001b[0;32m    950\u001b[0m \u001b[1;33m\u001b[0m\u001b[0m\n\u001b[1;32m--> 951\u001b[1;33m             self._execute_child(args, executable, preexec_fn, close_fds,\n\u001b[0m\u001b[0;32m    952\u001b[0m                                 \u001b[0mpass_fds\u001b[0m\u001b[1;33m,\u001b[0m \u001b[0mcwd\u001b[0m\u001b[1;33m,\u001b[0m \u001b[0menv\u001b[0m\u001b[1;33m,\u001b[0m\u001b[1;33m\u001b[0m\u001b[1;33m\u001b[0m\u001b[0m\n\u001b[0;32m    953\u001b[0m                                 \u001b[0mstartupinfo\u001b[0m\u001b[1;33m,\u001b[0m \u001b[0mcreationflags\u001b[0m\u001b[1;33m,\u001b[0m \u001b[0mshell\u001b[0m\u001b[1;33m,\u001b[0m\u001b[1;33m\u001b[0m\u001b[1;33m\u001b[0m\u001b[0m\n",
      "\u001b[1;32m~\\Anaconda3\\lib\\subprocess.py\u001b[0m in \u001b[0;36m_execute_child\u001b[1;34m(self, args, executable, preexec_fn, close_fds, pass_fds, cwd, env, startupinfo, creationflags, shell, p2cread, p2cwrite, c2pread, c2pwrite, errread, errwrite, unused_restore_signals, unused_gid, unused_gids, unused_uid, unused_umask, unused_start_new_session)\u001b[0m\n\u001b[0;32m   1418\u001b[0m             \u001b[1;31m# Start the process\u001b[0m\u001b[1;33m\u001b[0m\u001b[1;33m\u001b[0m\u001b[0m\n\u001b[0;32m   1419\u001b[0m             \u001b[1;32mtry\u001b[0m\u001b[1;33m:\u001b[0m\u001b[1;33m\u001b[0m\u001b[1;33m\u001b[0m\u001b[0m\n\u001b[1;32m-> 1420\u001b[1;33m                 hp, ht, pid, tid = _winapi.CreateProcess(executable, args,\n\u001b[0m\u001b[0;32m   1421\u001b[0m                                          \u001b[1;31m# no special security\u001b[0m\u001b[1;33m\u001b[0m\u001b[1;33m\u001b[0m\u001b[0m\n\u001b[0;32m   1422\u001b[0m                                          \u001b[1;32mNone\u001b[0m\u001b[1;33m,\u001b[0m \u001b[1;32mNone\u001b[0m\u001b[1;33m,\u001b[0m\u001b[1;33m\u001b[0m\u001b[1;33m\u001b[0m\u001b[0m\n",
      "\u001b[1;31mFileNotFoundError\u001b[0m: [WinError 2] The system cannot find the file specified"
     ]
    }
   ],
   "source": [
    "#Implementation of graph viz using anytree\n",
    "# from anytree.exporter import DotExporter\n",
    "# DotExporter(udo).to_picture(\"udo.png\")"
   ]
  },
  {
   "cell_type": "code",
   "execution_count": null,
   "id": "b9b618d2",
   "metadata": {},
   "outputs": [],
   "source": []
  }
 ],
 "metadata": {
  "kernelspec": {
   "display_name": "Python 3 (ipykernel)",
   "language": "python",
   "name": "python3"
  },
  "language_info": {
   "codemirror_mode": {
    "name": "ipython",
    "version": 3
   },
   "file_extension": ".py",
   "mimetype": "text/x-python",
   "name": "python",
   "nbconvert_exporter": "python",
   "pygments_lexer": "ipython3",
   "version": "3.9.13"
  }
 },
 "nbformat": 4,
 "nbformat_minor": 5
}
