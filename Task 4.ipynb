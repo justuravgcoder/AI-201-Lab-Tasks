{
 "cells": [
  {
   "cell_type": "code",
   "execution_count": 18,
   "id": "7caedeca",
   "metadata": {},
   "outputs": [
    {
     "data": {
      "text/plain": [
       "{'s': [('a', 3), ('b', 2), ('c', 4)],\n",
       " 'a': [('d', 1)],\n",
       " 'b': [('e', 8), ('f', 7), ('d', 1)],\n",
       " 'c': [('e', 1), ('j', 3)],\n",
       " 'd': [('f', 1), ('h', 1)],\n",
       " 'e': [('g', 1)],\n",
       " 'f': [('g', 5)],\n",
       " 'h': [('g', 1), ('f', 3)],\n",
       " 'j': [('e', 2)],\n",
       " 'g': []}"
      ]
     },
     "execution_count": 18,
     "metadata": {},
     "output_type": "execute_result"
    }
   ],
   "source": [
    "dd = {'s':[('a',3),('b',2),('c',4)],\n",
    "    'a':[('d',1)],\n",
    "    'b':[('e',8),('f',7),('d',1)],\n",
    "    'c':[('e',1),('j',3)],\n",
    "    'd':[('f',1),('h',1)],\n",
    "    'e':[('g',1)],\n",
    "    'f':[('g',5)],\n",
    "    'h':[('g',1),('f',3)],\n",
    "    'j':[('e',2)],\n",
    "    'g':[]}\n",
    "dd"
   ]
  },
  {
   "cell_type": "code",
   "execution_count": 3,
   "id": "74001f2a",
   "metadata": {},
   "outputs": [],
   "source": [
    "def build_dcit(lis):\n",
    "    di  = {}\n",
    "\n",
    "    for i in lis:\n",
    "        name = i[0]\n",
    "        cost = i[1]\n",
    "        di[name] = cost\n",
    "    return di\n",
    "\n"
   ]
  },
  {
   "cell_type": "code",
   "execution_count": 4,
   "id": "29144f2a",
   "metadata": {},
   "outputs": [],
   "source": [
    "def my(x):\n",
    "    return x[1]"
   ]
  },
  {
   "cell_type": "code",
   "execution_count": 5,
   "id": "1c0e2aea",
   "metadata": {},
   "outputs": [
    {
     "name": "stdout",
     "output_type": "stream",
     "text": [
      "Queue :   [('s', 0)]\n",
      "child pop:  ('s', 0)\n",
      "Explored:  ['s']\n",
      "current child:  [('a', 3), ('b', 2), ('c', 4)]\n",
      "('a', 3)\n",
      "('a', 3) , parent cost (0) + child cost (3) = 3\n",
      "('b', 2)\n",
      "('b', 2) , parent cost (0) + child cost (2) = 2\n",
      "('c', 4)\n",
      "('c', 4) , parent cost (0) + child cost (4) = 4\n",
      "**************************************************\n",
      "Queue :   [('b', 2), ('a', 3), ('c', 4)]\n",
      "child pop:  ('b', 2)\n",
      "Explored:  ['s', 'b']\n",
      "current child:  [('e', 8), ('f', 7), ('d', 1)]\n",
      "('e', 8)\n",
      "('e', 8) , parent cost (2) + child cost (8) = 10\n",
      "('f', 7)\n",
      "('f', 7) , parent cost (2) + child cost (7) = 9\n",
      "('d', 1)\n",
      "('d', 1) , parent cost (2) + child cost (1) = 3\n",
      "**************************************************\n",
      "Queue :   [('a', 3), ('d', 3), ('c', 4), ('f', 9), ('e', 10)]\n",
      "child pop:  ('a', 3)\n",
      "Explored:  ['s', 'b', 'a']\n",
      "current child:  [('d', 1)]\n",
      "('d', 1)\n",
      "('d', 1) , parent cost (3) + child cost (1) = 4\n",
      "**************************************************\n",
      "Queue :   [('d', 3), ('c', 4), ('f', 9), ('e', 10)]\n",
      "child pop:  ('d', 3)\n",
      "Explored:  ['s', 'b', 'a', 'd']\n",
      "current child:  [('f', 1), ('h', 1)]\n",
      "('f', 1)\n",
      "('f', 1) , parent cost (3) + child cost (1) = 4\n",
      "('h', 1)\n",
      "('h', 1) , parent cost (3) + child cost (1) = 4\n",
      "**************************************************\n",
      "Queue :   [('c', 4), ('f', 4), ('h', 4), ('e', 10)]\n",
      "child pop:  ('c', 4)\n",
      "Explored:  ['s', 'b', 'a', 'd', 'c']\n",
      "current child:  [('e', 1), ('j', 3)]\n",
      "('e', 1)\n",
      "('e', 1) , parent cost (4) + child cost (1) = 5\n",
      "('j', 3)\n",
      "('j', 3) , parent cost (4) + child cost (3) = 7\n",
      "**************************************************\n",
      "Queue :   [('f', 4), ('h', 4), ('e', 5), ('j', 7)]\n",
      "child pop:  ('f', 4)\n",
      "Explored:  ['s', 'b', 'a', 'd', 'c', 'f']\n",
      "current child:  [('g', 5)]\n",
      "('g', 5)\n",
      "('g', 5) , parent cost (4) + child cost (5) = 9\n",
      "**************************************************\n",
      "Queue :   [('h', 4), ('e', 5), ('j', 7), ('g', 9)]\n",
      "child pop:  ('h', 4)\n",
      "Explored:  ['s', 'b', 'a', 'd', 'c', 'f', 'h']\n",
      "current child:  [('g', 1), ('f', 3)]\n",
      "('g', 1)\n",
      "('g', 1) , parent cost (4) + child cost (1) = 5\n",
      "('f', 3)\n",
      "('f', 3) , parent cost (4) + child cost (3) = 7\n",
      "**************************************************\n",
      "Queue :   [('e', 5), ('g', 5), ('j', 7)]\n",
      "child pop:  ('e', 5)\n",
      "Explored:  ['s', 'b', 'a', 'd', 'c', 'f', 'h', 'e']\n",
      "current child:  [('g', 1)]\n",
      "('g', 1)\n",
      "('g', 1) , parent cost (5) + child cost (1) = 6\n",
      "**************************************************\n",
      "Queue :   [('g', 5), ('j', 7)]\n",
      "child pop:  ('g', 5)\n"
     ]
    },
    {
     "data": {
      "text/plain": [
       "['s', 'b', 'a', 'd', 'c', 'f', 'h', 'e', 'g']"
      ]
     },
     "execution_count": 5,
     "metadata": {},
     "output_type": "execute_result"
    }
   ],
   "source": [
    "def UCS(d,goal):\n",
    "    \n",
    "    q = []\n",
    "    q.append(('s',0))\n",
    "    explored = []\n",
    "    \n",
    "    while len(q)>0:\n",
    "\n",
    "        print('Queue :  ',q)\n",
    "        node = q.pop(0)\n",
    "        print('child pop: ',node)\n",
    "        \n",
    "        if node[0] not in explored:\n",
    "            explored.append(node[0])\n",
    "        \n",
    "        if node[0] == goal:\n",
    "            return explored \n",
    "        \n",
    "        print('Explored: ',explored)\n",
    "\n",
    "        child = d.get(node[0])\n",
    "        print('current child: ',child)\n",
    "        \n",
    "        for i in child:\n",
    "            print(i)\n",
    "            \n",
    "            cost =  i[1] + node[1]\n",
    "            name = i[0]\n",
    "            new = (name,cost)\n",
    "\n",
    "            \n",
    "            print('{} , parent cost ({}) + child cost ({}) = {}'.format(i,node[1],i[1],cost))\n",
    "            \n",
    "            \n",
    "            if new[0] not in explored and new[0] not in build_dcit(q):\n",
    "                \n",
    "                q.append(new) \n",
    "                \n",
    "            \n",
    "                \n",
    "            elif new[0] in build_dcit(q):\n",
    "           \n",
    "\n",
    "                old_data = build_dcit(q)\n",
    "                old_cost = old_data[new[0]]\n",
    "                old_name = new[0]\n",
    "                old = (old_name,old_cost)\n",
    "\n",
    "                if new[1] < old[1]:\n",
    "                  \n",
    "                    inde = q.index(old)\n",
    "                    q[inde] = new\n",
    "                else:\n",
    "                    pass\n",
    "\n",
    "        \n",
    "        q = sorted(q,key= my)\n",
    "        #print(q)\n",
    "        print(50*'*')\n",
    "        \n",
    "    \n",
    "UCS(dd,'g')"
   ]
  },
  {
   "cell_type": "code",
   "execution_count": 6,
   "id": "ae2c278b",
   "metadata": {
    "scrolled": true
   },
   "outputs": [
    {
     "ename": "JSONDecodeError",
     "evalue": "Expecting property name enclosed in double quotes: line 1 column 2 (char 1)",
     "output_type": "error",
     "traceback": [
      "\u001b[1;31m---------------------------------------------------------------------------\u001b[0m",
      "\u001b[1;31mJSONDecodeError\u001b[0m                           Traceback (most recent call last)",
      "\u001b[1;32m~\\AppData\\Local\\Temp\\ipykernel_7464\\3506737146.py\u001b[0m in \u001b[0;36m<module>\u001b[1;34m\u001b[0m\n\u001b[0;32m      9\u001b[0m \u001b[1;33m\u001b[0m\u001b[0m\n\u001b[0;32m     10\u001b[0m \u001b[1;31m# Converting string to dictionary\u001b[0m\u001b[1;33m\u001b[0m\u001b[1;33m\u001b[0m\u001b[0m\n\u001b[1;32m---> 11\u001b[1;33m \u001b[0mnodes_and_edges_dict\u001b[0m \u001b[1;33m=\u001b[0m \u001b[0mjson\u001b[0m\u001b[1;33m.\u001b[0m\u001b[0mloads\u001b[0m\u001b[1;33m(\u001b[0m\u001b[1;34m'{'\u001b[0m \u001b[1;33m+\u001b[0m \u001b[0mnodes_and_edges_str\u001b[0m \u001b[1;33m+\u001b[0m \u001b[1;34m'}'\u001b[0m\u001b[1;33m)\u001b[0m\u001b[1;33m\u001b[0m\u001b[1;33m\u001b[0m\u001b[0m\n\u001b[0m\u001b[0;32m     12\u001b[0m \u001b[1;33m\u001b[0m\u001b[0m\n\u001b[0;32m     13\u001b[0m \u001b[1;31m# Creating dictionary of graph\u001b[0m\u001b[1;33m\u001b[0m\u001b[1;33m\u001b[0m\u001b[0m\n",
      "\u001b[1;32m~\\Anaconda3\\lib\\json\\__init__.py\u001b[0m in \u001b[0;36mloads\u001b[1;34m(s, cls, object_hook, parse_float, parse_int, parse_constant, object_pairs_hook, **kw)\u001b[0m\n\u001b[0;32m    344\u001b[0m             \u001b[0mparse_int\u001b[0m \u001b[1;32mis\u001b[0m \u001b[1;32mNone\u001b[0m \u001b[1;32mand\u001b[0m \u001b[0mparse_float\u001b[0m \u001b[1;32mis\u001b[0m \u001b[1;32mNone\u001b[0m \u001b[1;32mand\u001b[0m\u001b[1;33m\u001b[0m\u001b[1;33m\u001b[0m\u001b[0m\n\u001b[0;32m    345\u001b[0m             parse_constant is None and object_pairs_hook is None and not kw):\n\u001b[1;32m--> 346\u001b[1;33m         \u001b[1;32mreturn\u001b[0m \u001b[0m_default_decoder\u001b[0m\u001b[1;33m.\u001b[0m\u001b[0mdecode\u001b[0m\u001b[1;33m(\u001b[0m\u001b[0ms\u001b[0m\u001b[1;33m)\u001b[0m\u001b[1;33m\u001b[0m\u001b[1;33m\u001b[0m\u001b[0m\n\u001b[0m\u001b[0;32m    347\u001b[0m     \u001b[1;32mif\u001b[0m \u001b[0mcls\u001b[0m \u001b[1;32mis\u001b[0m \u001b[1;32mNone\u001b[0m\u001b[1;33m:\u001b[0m\u001b[1;33m\u001b[0m\u001b[1;33m\u001b[0m\u001b[0m\n\u001b[0;32m    348\u001b[0m         \u001b[0mcls\u001b[0m \u001b[1;33m=\u001b[0m \u001b[0mJSONDecoder\u001b[0m\u001b[1;33m\u001b[0m\u001b[1;33m\u001b[0m\u001b[0m\n",
      "\u001b[1;32m~\\Anaconda3\\lib\\json\\decoder.py\u001b[0m in \u001b[0;36mdecode\u001b[1;34m(self, s, _w)\u001b[0m\n\u001b[0;32m    335\u001b[0m \u001b[1;33m\u001b[0m\u001b[0m\n\u001b[0;32m    336\u001b[0m         \"\"\"\n\u001b[1;32m--> 337\u001b[1;33m         \u001b[0mobj\u001b[0m\u001b[1;33m,\u001b[0m \u001b[0mend\u001b[0m \u001b[1;33m=\u001b[0m \u001b[0mself\u001b[0m\u001b[1;33m.\u001b[0m\u001b[0mraw_decode\u001b[0m\u001b[1;33m(\u001b[0m\u001b[0ms\u001b[0m\u001b[1;33m,\u001b[0m \u001b[0midx\u001b[0m\u001b[1;33m=\u001b[0m\u001b[0m_w\u001b[0m\u001b[1;33m(\u001b[0m\u001b[0ms\u001b[0m\u001b[1;33m,\u001b[0m \u001b[1;36m0\u001b[0m\u001b[1;33m)\u001b[0m\u001b[1;33m.\u001b[0m\u001b[0mend\u001b[0m\u001b[1;33m(\u001b[0m\u001b[1;33m)\u001b[0m\u001b[1;33m)\u001b[0m\u001b[1;33m\u001b[0m\u001b[1;33m\u001b[0m\u001b[0m\n\u001b[0m\u001b[0;32m    338\u001b[0m         \u001b[0mend\u001b[0m \u001b[1;33m=\u001b[0m \u001b[0m_w\u001b[0m\u001b[1;33m(\u001b[0m\u001b[0ms\u001b[0m\u001b[1;33m,\u001b[0m \u001b[0mend\u001b[0m\u001b[1;33m)\u001b[0m\u001b[1;33m.\u001b[0m\u001b[0mend\u001b[0m\u001b[1;33m(\u001b[0m\u001b[1;33m)\u001b[0m\u001b[1;33m\u001b[0m\u001b[1;33m\u001b[0m\u001b[0m\n\u001b[0;32m    339\u001b[0m         \u001b[1;32mif\u001b[0m \u001b[0mend\u001b[0m \u001b[1;33m!=\u001b[0m \u001b[0mlen\u001b[0m\u001b[1;33m(\u001b[0m\u001b[0ms\u001b[0m\u001b[1;33m)\u001b[0m\u001b[1;33m:\u001b[0m\u001b[1;33m\u001b[0m\u001b[1;33m\u001b[0m\u001b[0m\n",
      "\u001b[1;32m~\\Anaconda3\\lib\\json\\decoder.py\u001b[0m in \u001b[0;36mraw_decode\u001b[1;34m(self, s, idx)\u001b[0m\n\u001b[0;32m    351\u001b[0m         \"\"\"\n\u001b[0;32m    352\u001b[0m         \u001b[1;32mtry\u001b[0m\u001b[1;33m:\u001b[0m\u001b[1;33m\u001b[0m\u001b[1;33m\u001b[0m\u001b[0m\n\u001b[1;32m--> 353\u001b[1;33m             \u001b[0mobj\u001b[0m\u001b[1;33m,\u001b[0m \u001b[0mend\u001b[0m \u001b[1;33m=\u001b[0m \u001b[0mself\u001b[0m\u001b[1;33m.\u001b[0m\u001b[0mscan_once\u001b[0m\u001b[1;33m(\u001b[0m\u001b[0ms\u001b[0m\u001b[1;33m,\u001b[0m \u001b[0midx\u001b[0m\u001b[1;33m)\u001b[0m\u001b[1;33m\u001b[0m\u001b[1;33m\u001b[0m\u001b[0m\n\u001b[0m\u001b[0;32m    354\u001b[0m         \u001b[1;32mexcept\u001b[0m \u001b[0mStopIteration\u001b[0m \u001b[1;32mas\u001b[0m \u001b[0merr\u001b[0m\u001b[1;33m:\u001b[0m\u001b[1;33m\u001b[0m\u001b[1;33m\u001b[0m\u001b[0m\n\u001b[0;32m    355\u001b[0m             \u001b[1;32mraise\u001b[0m \u001b[0mJSONDecodeError\u001b[0m\u001b[1;33m(\u001b[0m\u001b[1;34m\"Expecting value\"\u001b[0m\u001b[1;33m,\u001b[0m \u001b[0ms\u001b[0m\u001b[1;33m,\u001b[0m \u001b[0merr\u001b[0m\u001b[1;33m.\u001b[0m\u001b[0mvalue\u001b[0m\u001b[1;33m)\u001b[0m \u001b[1;32mfrom\u001b[0m \u001b[1;32mNone\u001b[0m\u001b[1;33m\u001b[0m\u001b[1;33m\u001b[0m\u001b[0m\n",
      "\u001b[1;31mJSONDecodeError\u001b[0m: Expecting property name enclosed in double quotes: line 1 column 2 (char 1)"
     ]
    }
   ],
   "source": [
    "import json\n",
    "\n",
    "data = '<Graph indexType=\"custom\" height=\"400\" width=\"400\" nodes={[{label:0,center:{x:310.6,y:213.9}},{label:1,center:{x:83,y:392.6}},{label:2,center:{x:196.8,y:77.5}},{label:3,center:{x:368.4,y:61.8}},{label:4,center:{x:139.7,y:235.1}},{label:5,center:{x:253.8,y:371.4}}]} edges={[{label:\"30\",source:0,target:2},{label:\"40\",source:0,target:4},{label:\"2\",source:0,target:5},{label:\"80\",source:1,target:4},{label:\"10\",source:1,target:5},{label:\"23\",source:2,target:3},{label:\"9\",source:2,target:4},{label:\"100\",source:4,target:5}]} />'\n",
    "\n",
    "# Extracting nodes and edges from the string\n",
    "start_index = data.index('nodes=') + len('nodes=[')\n",
    "end_index = data.index(']}', start_index) + len(']}')\n",
    "nodes_and_edges_str = data[start_index:end_index]\n",
    "\n",
    "# Converting string to dictionary\n",
    "nodes_and_edges_dict = json.loads('{' + nodes_and_edges_str + '}')\n",
    "\n",
    "# Creating dictionary of graph\n",
    "graph = {\n",
    "    'nodes': {},\n",
    "    'edges': {}\n",
    "}\n",
    "\n",
    "for node in nodes_and_edges_dict['nodes']:\n",
    "    label = int(node['label'])\n",
    "    center = node['center']\n",
    "    x = int(float(center['x']))\n",
    "    y = int(float(center['y']))\n",
    "    graph['nodes'][label] = (x, y)\n",
    "\n",
    "for edge in nodes_and_edges_dict['edges']:\n",
    "    label = int(edge['label'])\n",
    "    source = int(edge['source'])\n",
    "    target = int(edge['target'])\n",
    "    if source not in graph['edges']:\n",
    "        graph['edges'][source] = []\n",
    "    graph['edges'][source].append((target, label))\n",
    "\n",
    "print(graph)"
   ]
  },
  {
   "cell_type": "code",
   "execution_count": 8,
   "id": "75aa588f",
   "metadata": {},
   "outputs": [
    {
     "ename": "JSONDecodeError",
     "evalue": "Expecting property name enclosed in double quotes: line 1 column 2 (char 1)",
     "output_type": "error",
     "traceback": [
      "\u001b[1;31m---------------------------------------------------------------------------\u001b[0m",
      "\u001b[1;31mJSONDecodeError\u001b[0m                           Traceback (most recent call last)",
      "\u001b[1;32m~\\AppData\\Local\\Temp\\ipykernel_7464\\55977254.py\u001b[0m in \u001b[0;36m<module>\u001b[1;34m\u001b[0m\n\u001b[0;32m      9\u001b[0m \u001b[1;33m\u001b[0m\u001b[0m\n\u001b[0;32m     10\u001b[0m \u001b[1;31m# Converting string to dictionary\u001b[0m\u001b[1;33m\u001b[0m\u001b[1;33m\u001b[0m\u001b[0m\n\u001b[1;32m---> 11\u001b[1;33m \u001b[0mnodes_and_edges_dict\u001b[0m \u001b[1;33m=\u001b[0m \u001b[0mjson\u001b[0m\u001b[1;33m.\u001b[0m\u001b[0mloads\u001b[0m\u001b[1;33m(\u001b[0m\u001b[1;34m'{'\u001b[0m \u001b[1;33m+\u001b[0m \u001b[0mnodes_and_edges_str\u001b[0m \u001b[1;33m+\u001b[0m \u001b[1;34m'}'\u001b[0m\u001b[1;33m)\u001b[0m\u001b[1;33m\u001b[0m\u001b[1;33m\u001b[0m\u001b[0m\n\u001b[0m\u001b[0;32m     12\u001b[0m \u001b[1;33m\u001b[0m\u001b[0m\n\u001b[0;32m     13\u001b[0m \u001b[1;31m# Creating dictionary of graph\u001b[0m\u001b[1;33m\u001b[0m\u001b[1;33m\u001b[0m\u001b[0m\n",
      "\u001b[1;32m~\\Anaconda3\\lib\\json\\__init__.py\u001b[0m in \u001b[0;36mloads\u001b[1;34m(s, cls, object_hook, parse_float, parse_int, parse_constant, object_pairs_hook, **kw)\u001b[0m\n\u001b[0;32m    344\u001b[0m             \u001b[0mparse_int\u001b[0m \u001b[1;32mis\u001b[0m \u001b[1;32mNone\u001b[0m \u001b[1;32mand\u001b[0m \u001b[0mparse_float\u001b[0m \u001b[1;32mis\u001b[0m \u001b[1;32mNone\u001b[0m \u001b[1;32mand\u001b[0m\u001b[1;33m\u001b[0m\u001b[1;33m\u001b[0m\u001b[0m\n\u001b[0;32m    345\u001b[0m             parse_constant is None and object_pairs_hook is None and not kw):\n\u001b[1;32m--> 346\u001b[1;33m         \u001b[1;32mreturn\u001b[0m \u001b[0m_default_decoder\u001b[0m\u001b[1;33m.\u001b[0m\u001b[0mdecode\u001b[0m\u001b[1;33m(\u001b[0m\u001b[0ms\u001b[0m\u001b[1;33m)\u001b[0m\u001b[1;33m\u001b[0m\u001b[1;33m\u001b[0m\u001b[0m\n\u001b[0m\u001b[0;32m    347\u001b[0m     \u001b[1;32mif\u001b[0m \u001b[0mcls\u001b[0m \u001b[1;32mis\u001b[0m \u001b[1;32mNone\u001b[0m\u001b[1;33m:\u001b[0m\u001b[1;33m\u001b[0m\u001b[1;33m\u001b[0m\u001b[0m\n\u001b[0;32m    348\u001b[0m         \u001b[0mcls\u001b[0m \u001b[1;33m=\u001b[0m \u001b[0mJSONDecoder\u001b[0m\u001b[1;33m\u001b[0m\u001b[1;33m\u001b[0m\u001b[0m\n",
      "\u001b[1;32m~\\Anaconda3\\lib\\json\\decoder.py\u001b[0m in \u001b[0;36mdecode\u001b[1;34m(self, s, _w)\u001b[0m\n\u001b[0;32m    335\u001b[0m \u001b[1;33m\u001b[0m\u001b[0m\n\u001b[0;32m    336\u001b[0m         \"\"\"\n\u001b[1;32m--> 337\u001b[1;33m         \u001b[0mobj\u001b[0m\u001b[1;33m,\u001b[0m \u001b[0mend\u001b[0m \u001b[1;33m=\u001b[0m \u001b[0mself\u001b[0m\u001b[1;33m.\u001b[0m\u001b[0mraw_decode\u001b[0m\u001b[1;33m(\u001b[0m\u001b[0ms\u001b[0m\u001b[1;33m,\u001b[0m \u001b[0midx\u001b[0m\u001b[1;33m=\u001b[0m\u001b[0m_w\u001b[0m\u001b[1;33m(\u001b[0m\u001b[0ms\u001b[0m\u001b[1;33m,\u001b[0m \u001b[1;36m0\u001b[0m\u001b[1;33m)\u001b[0m\u001b[1;33m.\u001b[0m\u001b[0mend\u001b[0m\u001b[1;33m(\u001b[0m\u001b[1;33m)\u001b[0m\u001b[1;33m)\u001b[0m\u001b[1;33m\u001b[0m\u001b[1;33m\u001b[0m\u001b[0m\n\u001b[0m\u001b[0;32m    338\u001b[0m         \u001b[0mend\u001b[0m \u001b[1;33m=\u001b[0m \u001b[0m_w\u001b[0m\u001b[1;33m(\u001b[0m\u001b[0ms\u001b[0m\u001b[1;33m,\u001b[0m \u001b[0mend\u001b[0m\u001b[1;33m)\u001b[0m\u001b[1;33m.\u001b[0m\u001b[0mend\u001b[0m\u001b[1;33m(\u001b[0m\u001b[1;33m)\u001b[0m\u001b[1;33m\u001b[0m\u001b[1;33m\u001b[0m\u001b[0m\n\u001b[0;32m    339\u001b[0m         \u001b[1;32mif\u001b[0m \u001b[0mend\u001b[0m \u001b[1;33m!=\u001b[0m \u001b[0mlen\u001b[0m\u001b[1;33m(\u001b[0m\u001b[0ms\u001b[0m\u001b[1;33m)\u001b[0m\u001b[1;33m:\u001b[0m\u001b[1;33m\u001b[0m\u001b[1;33m\u001b[0m\u001b[0m\n",
      "\u001b[1;32m~\\Anaconda3\\lib\\json\\decoder.py\u001b[0m in \u001b[0;36mraw_decode\u001b[1;34m(self, s, idx)\u001b[0m\n\u001b[0;32m    351\u001b[0m         \"\"\"\n\u001b[0;32m    352\u001b[0m         \u001b[1;32mtry\u001b[0m\u001b[1;33m:\u001b[0m\u001b[1;33m\u001b[0m\u001b[1;33m\u001b[0m\u001b[0m\n\u001b[1;32m--> 353\u001b[1;33m             \u001b[0mobj\u001b[0m\u001b[1;33m,\u001b[0m \u001b[0mend\u001b[0m \u001b[1;33m=\u001b[0m \u001b[0mself\u001b[0m\u001b[1;33m.\u001b[0m\u001b[0mscan_once\u001b[0m\u001b[1;33m(\u001b[0m\u001b[0ms\u001b[0m\u001b[1;33m,\u001b[0m \u001b[0midx\u001b[0m\u001b[1;33m)\u001b[0m\u001b[1;33m\u001b[0m\u001b[1;33m\u001b[0m\u001b[0m\n\u001b[0m\u001b[0;32m    354\u001b[0m         \u001b[1;32mexcept\u001b[0m \u001b[0mStopIteration\u001b[0m \u001b[1;32mas\u001b[0m \u001b[0merr\u001b[0m\u001b[1;33m:\u001b[0m\u001b[1;33m\u001b[0m\u001b[1;33m\u001b[0m\u001b[0m\n\u001b[0;32m    355\u001b[0m             \u001b[1;32mraise\u001b[0m \u001b[0mJSONDecodeError\u001b[0m\u001b[1;33m(\u001b[0m\u001b[1;34m\"Expecting value\"\u001b[0m\u001b[1;33m,\u001b[0m \u001b[0ms\u001b[0m\u001b[1;33m,\u001b[0m \u001b[0merr\u001b[0m\u001b[1;33m.\u001b[0m\u001b[0mvalue\u001b[0m\u001b[1;33m)\u001b[0m \u001b[1;32mfrom\u001b[0m \u001b[1;32mNone\u001b[0m\u001b[1;33m\u001b[0m\u001b[1;33m\u001b[0m\u001b[0m\n",
      "\u001b[1;31mJSONDecodeError\u001b[0m: Expecting property name enclosed in double quotes: line 1 column 2 (char 1)"
     ]
    }
   ],
   "source": [
    "#Python code to extract data from visualiser\n",
    "# import json\n",
    "\n",
    "# data = '<Graph indexType=\"custom\" height=\"400\" width=\"400\" nodes={[{label:0,center:{x:310.6,y:213.9}},{label:1,center:{x:83,y:392.6}},{label:2,center:{x:196.8,y:77.5}},{label:3,center:{x:368.4,y:61.8}},{label:4,center:{x:139.7,y:235.1}},{label:5,center:{x:253.8,y:371.4}}]} edges={[{label:\"30\",source:0,target:2},{label:\"40\",source:0,target:4},{label:\"2\",source:0,target:5},{label:\"80\",source:1,target:4},{label:\"10\",source:1,target:5},{label:\"23\",source:2,target:3},{label:\"9\",source:2,target:4},{label:\"100\",source:4,target:5}]} />'\n",
    "\n",
    "# # Extracting nodes and edges from the string\n",
    "# start_index = data.index('nodes=') + len('nodes=[')\n",
    "# end_index = data.index(']}', start_index) + len(']}')\n",
    "# nodes_and_edges_str = data[start_index:end_index]\n",
    "\n",
    "# # Converting string to dictionary\n",
    "# nodes_and_edges_dict = json.loads('{' + nodes_and_edges_str + '}')\n",
    "\n",
    "# # Creating dictionary of graph\n",
    "# graph = {\n",
    "#     'nodes': {},\n",
    "#     'edges': {}\n",
    "# }\n",
    "\n",
    "# for node in nodes_and_edges_dict['nodes']:\n",
    "#     label = node['label']\n",
    "#     center = node['center']\n",
    "#     graph['nodes'][label] = (center['x'], center['y'])\n",
    "\n",
    "# for edge in nodes_and_edges_dict['edges']:\n",
    "#     label = edge['label']\n",
    "#     source = edge['source']\n",
    "#     target = edge['target']\n",
    "#     if source not in graph['edges']:\n",
    "#         graph['edges'][source] = []\n",
    "#     graph['edges'][source].append((target, label))\n",
    "\n",
    "# print(graph)\n"
   ]
  },
  {
   "cell_type": "code",
   "execution_count": 10,
   "id": "13284dca",
   "metadata": {},
   "outputs": [
    {
     "data": {
      "text/plain": [
       "'<Graph indexType=\"custom\" height=\"400\" width=\"400\" nodes={[{label:0,center:{x:310.6,y:213.9}},{label:1,center:{x:83,y:392.6}},{label:2,center:{x:196.8,y:77.5}},{label:3,center:{x:368.4,y:61.8}},{label:4,center:{x:139.7,y:235.1}},{label:5,center:{x:253.8,y:371.4}}]} edges={[{label:\"30\",source:0,target:2},{label:\"40\",source:0,target:4},{label:\"2\",source:0,target:5},{label:\"80\",source:1,target:4},{label:\"10\",source:1,target:5},{label:\"23\",source:2,target:3},{label:\"9\",source:2,target:4},{label:\"100\",source:4,target:5}]} />'"
      ]
     },
     "execution_count": 10,
     "metadata": {},
     "output_type": "execute_result"
    }
   ],
   "source": [
    "# import json\n",
    "\n",
    "# data = '<Graph indexType=\"custom\" height=\"400\" width=\"400\" nodes={[{label:0,center:{x:310.6,y:213.9}},{label:1,center:{x:83,y:392.6}},{label:2,center:{x:196.8,y:77.5}},{label:3,center:{x:368.4,y:61.8}},{label:4,center:{x:139.7,y:235.1}},{label:5,center:{x:253.8,y:371.4}}]} edges={[{label:\"30\",source:0,target:2},{label:\"40\",source:0,target:4},{label:\"2\",source:0,target:5},{label:\"80\",source:1,target:4},{label:\"10\",source:1,target:5},{label:\"23\",source:2,target:3},{label:\"9\",source:2,target:4},{label:\"100\",source:4,target:5}]} />'\n",
    "\n",
    "# # Replace single quotes with double quotes\n",
    "# data = data.replace(\"'\", '\"')\n",
    "# data\n",
    "# # Extracting nodes and edges from the string\n",
    "# start_index = data.index('nodes=') + len('nodes=[')\n",
    "# end_index = data.index(']}', start_index) + len(']}')\n",
    "# nodes_and_edges_str = data[start_index:end_index]\n",
    "\n",
    "# # Converting string to dictionary\n",
    "# nodes_and_edges_dict = json.loads('{' + nodes_and_edges_str + '}')\n",
    "\n",
    "# # Creating dictionary of graph\n",
    "# graph = {\n",
    "#     'nodes': {},\n",
    "#     'edges': {}\n",
    "# }\n",
    "\n",
    "# for node in nodes_and_edges_dict['nodes']:\n",
    "#     label = int(node['label'])\n",
    "#     center = node['center']\n",
    "#     x = int(float(center['x']))\n",
    "#     y = int(float(center['y']))\n",
    "#     graph['nodes'][label] = (x, y)\n",
    "\n",
    "# for edge in nodes_and_edges_dict['edges']:\n",
    "#     label = int(edge['label'])\n",
    "#     source = int(edge['source'])\n",
    "#     target = int(edge['target'])\n",
    "#     if source not in graph['edges']:\n",
    "#         graph['edges'][source] = []\n",
    "#     graph['edges'][source].append((target, label))\n",
    "\n",
    "# print(graph)"
   ]
  },
  {
   "cell_type": "code",
   "execution_count": 34,
   "id": "4696bbf4",
   "metadata": {},
   "outputs": [],
   "source": [
    "def UCS(d,goal):\n",
    "    count = 0;\n",
    "    q = []\n",
    "    q.append(('Arad',0))\n",
    "    explored = []\n",
    "    \n",
    "    while len(q)>0:\n",
    "\n",
    "        print('Queue :  ',q)\n",
    "        node = q.pop(0)\n",
    "        print('child pop: ',node)\n",
    "        \n",
    "        if node[0] not in explored:\n",
    "            count=count + 1;\n",
    "            explored.append(node[0])\n",
    "        \n",
    "        if node[0] == goal:\n",
    "            return explored,count \n",
    "        \n",
    "        print('Explored: ',explored)\n",
    "        print(count)\n",
    "        child = d.get(node[0])\n",
    "        print('current child: ',child)\n",
    "        \n",
    "        for i in child:\n",
    "            print(i)\n",
    "            \n",
    "            cost =  i[1] + node[1]\n",
    "            name = i[0]\n",
    "            new = (name,cost)\n",
    "\n",
    "            \n",
    "            print('{} , parent cost ({}) + child cost ({}) = {}'.format(i,node[1],i[1],cost))\n",
    "            \n",
    "            \n",
    "            if new[0] not in explored and new[0] not in build_dcit(q):\n",
    "                \n",
    "                q.append(new) \n",
    "                \n",
    "            \n",
    "                \n",
    "            elif new[0] in build_dcit(q):\n",
    "           \n",
    "\n",
    "                old_data = build_dcit(q)\n",
    "                old_cost = old_data[new[0]]\n",
    "                old_name = new[0]\n",
    "                old = (old_name,old_cost)\n",
    "\n",
    "                if new[1] < old[1]:\n",
    "                  \n",
    "                    inde = q.index(old)\n",
    "                    q[inde] = new\n",
    "                else:\n",
    "                    pass\n",
    "\n",
    "        \n",
    "        q = sorted(q,key= my)\n",
    "        #print(q)\n",
    "        print(50*'*')\n",
    "        \n",
    "    \n"
   ]
  },
  {
   "cell_type": "code",
   "execution_count": 26,
   "id": "2d8ae00c",
   "metadata": {},
   "outputs": [
    {
     "data": {
      "text/plain": [
       "{'0': [('2', 30), ('4', 40), ('5', 2)],\n",
       " '1': [('4', 80), ('5', 10)],\n",
       " '2': [('3', 23), ('4', 9)],\n",
       " '4': [('5', 100)]}"
      ]
     },
     "execution_count": 26,
     "metadata": {},
     "output_type": "execute_result"
    }
   ],
   "source": [
    "#    0 2 30\n",
    "# 0 4 40\n",
    "# 0 5 2\n",
    "# 1 4 80 \n",
    "# 1 5 10\n",
    "# 2 3 23\n",
    "# 2 4 9\n",
    "# 4 5 100\n",
    "edges = {\n",
    "        '0': [('2', 30), ('4', 40), ('5', 2)],\n",
    "        '1': [('4', 80), ('5', 10)],\n",
    "        '2': [('3', 23), ('4', 9)],\n",
    "        '4': [('5', 100)]}\n",
    "       \n",
    "edges"
   ]
  },
  {
   "cell_type": "code",
   "execution_count": 28,
   "id": "4f348e6a",
   "metadata": {},
   "outputs": [
    {
     "name": "stdout",
     "output_type": "stream",
     "text": [
      "Queue :   [('0', 0)]\n",
      "child pop:  ('0', 0)\n",
      "Explored:  ['0']\n",
      "current child:  [('2', 30), ('4', 40), ('5', 2)]\n",
      "('2', 30)\n",
      "('2', 30) , parent cost (0) + child cost (30) = 30\n",
      "('4', 40)\n",
      "('4', 40) , parent cost (0) + child cost (40) = 40\n",
      "('5', 2)\n",
      "('5', 2) , parent cost (0) + child cost (2) = 2\n",
      "**************************************************\n",
      "Queue :   [('5', 2), ('2', 30), ('4', 40)]\n",
      "child pop:  ('5', 2)\n",
      "Explored:  ['0', '5']\n",
      "current child:  None\n"
     ]
    },
    {
     "ename": "TypeError",
     "evalue": "'NoneType' object is not iterable",
     "output_type": "error",
     "traceback": [
      "\u001b[1;31m---------------------------------------------------------------------------\u001b[0m",
      "\u001b[1;31mTypeError\u001b[0m                                 Traceback (most recent call last)",
      "\u001b[1;32m~\\AppData\\Local\\Temp\\ipykernel_7464\\60313827.py\u001b[0m in \u001b[0;36m<module>\u001b[1;34m\u001b[0m\n\u001b[1;32m----> 1\u001b[1;33m \u001b[0mUCS\u001b[0m\u001b[1;33m(\u001b[0m\u001b[0medges\u001b[0m\u001b[1;33m,\u001b[0m\u001b[1;34m'3'\u001b[0m\u001b[1;33m)\u001b[0m\u001b[1;33m\u001b[0m\u001b[1;33m\u001b[0m\u001b[0m\n\u001b[0m",
      "\u001b[1;32m~\\AppData\\Local\\Temp\\ipykernel_7464\\1527381389.py\u001b[0m in \u001b[0;36mUCS\u001b[1;34m(d, goal)\u001b[0m\n\u001b[0;32m     22\u001b[0m         \u001b[0mprint\u001b[0m\u001b[1;33m(\u001b[0m\u001b[1;34m'current child: '\u001b[0m\u001b[1;33m,\u001b[0m\u001b[0mchild\u001b[0m\u001b[1;33m)\u001b[0m\u001b[1;33m\u001b[0m\u001b[1;33m\u001b[0m\u001b[0m\n\u001b[0;32m     23\u001b[0m \u001b[1;33m\u001b[0m\u001b[0m\n\u001b[1;32m---> 24\u001b[1;33m         \u001b[1;32mfor\u001b[0m \u001b[0mi\u001b[0m \u001b[1;32min\u001b[0m \u001b[0mchild\u001b[0m\u001b[1;33m:\u001b[0m\u001b[1;33m\u001b[0m\u001b[1;33m\u001b[0m\u001b[0m\n\u001b[0m\u001b[0;32m     25\u001b[0m             \u001b[0mprint\u001b[0m\u001b[1;33m(\u001b[0m\u001b[0mi\u001b[0m\u001b[1;33m)\u001b[0m\u001b[1;33m\u001b[0m\u001b[1;33m\u001b[0m\u001b[0m\n\u001b[0;32m     26\u001b[0m \u001b[1;33m\u001b[0m\u001b[0m\n",
      "\u001b[1;31mTypeError\u001b[0m: 'NoneType' object is not iterable"
     ]
    }
   ],
   "source": [
    "UCS(edges,'3')"
   ]
  },
  {
   "cell_type": "code",
   "execution_count": 29,
   "id": "7adbd97a",
   "metadata": {},
   "outputs": [],
   "source": [
    "city =  {\n",
    "         'Arad': [('Sibiu', 140), ('Timisoara', 118), ('Zerind', 75)],\n",
    "         'Sibiu': [('Arad', 140), ('Oradea', 151), ('Fagaras', 99), ('Rimnicu', 80)],\n",
    "         'Timisoara': [('Arad', 118), ('Lugoj', 111)],\n",
    "         'Zerind': [('Arad', 75), ('Oradea', 71)],\n",
    "         'Oradea': [('Zerind', 71), ('Sibiu', 151)],\n",
    "         'Fagaras': [('Sibiu', 99), ('Bucharest', 211)],\n",
    "         'Rimnicu': [('Sibiu', 80), ('Craivo', 146), ('Pitesti', 97)],\n",
    "         'Lugoj': [('Timisoara', 111), ('Mehadia', 70)],\n",
    "         'Bucharest': [('Giurgiu', 90), ('Urziceni', 85), ('Pitesti', 101), ('Fagaras', 211)],\n",
    "         'Craivo': [('Dobreta', 120), ('Pitesti', 138), ('Rimnicu', 146)],\n",
    "         'Pitesti': [('Rimnicu', 97), ('Craivo', 138), ('Bucharest', 101)],\n",
    "         'Mehadia': [('Dobreta', 75), ('Lugoj', 70)],\n",
    "         'Giurgiu': [('Bucharest', 90)],\n",
    "         'Urziceni': [('Bucharest', 85), ('Hirsova', 98), ('Vaslui', 142)],\n",
    "         'Dobreta': [('Mehadia', 75), ('Craivo', 120)],\n",
    "         'Hirsova' : [('Eforie', 86), ('Urziceni', 98)],\n",
    "         'Vaslui' : [('Urziceni', 142), ('Lasi', 92)],\n",
    "         'Eforie' : [('Hirsova', 86)],\n",
    "         'Lasi': [('Neamt', 87), ('Vaslui', 92)],\n",
    "         'Neamt': [('Lasi', 87)],\n",
    "}"
   ]
  },
  {
   "cell_type": "code",
   "execution_count": 36,
   "id": "486cede5",
   "metadata": {},
   "outputs": [
    {
     "name": "stdout",
     "output_type": "stream",
     "text": [
      "Queue :   [('Arad', 0)]\n",
      "child pop:  ('Arad', 0)\n",
      "Explored:  ['Arad']\n",
      "1\n",
      "current child:  [('Sibiu', 140), ('Timisoara', 118), ('Zerind', 75)]\n",
      "('Sibiu', 140)\n",
      "('Sibiu', 140) , parent cost (0) + child cost (140) = 140\n",
      "('Timisoara', 118)\n",
      "('Timisoara', 118) , parent cost (0) + child cost (118) = 118\n",
      "('Zerind', 75)\n",
      "('Zerind', 75) , parent cost (0) + child cost (75) = 75\n",
      "**************************************************\n",
      "Queue :   [('Zerind', 75), ('Timisoara', 118), ('Sibiu', 140)]\n",
      "child pop:  ('Zerind', 75)\n"
     ]
    },
    {
     "data": {
      "text/plain": [
       "(['Arad', 'Zerind'], 2)"
      ]
     },
     "execution_count": 36,
     "metadata": {},
     "output_type": "execute_result"
    }
   ],
   "source": [
    "UCS(city,'Zerind')"
   ]
  },
  {
   "cell_type": "code",
   "execution_count": 41,
   "id": "838e0999",
   "metadata": {},
   "outputs": [
    {
     "ename": "NameError",
     "evalue": "name 'BST' is not defined",
     "output_type": "error",
     "traceback": [
      "\u001b[1;31m---------------------------------------------------------------------------\u001b[0m",
      "\u001b[1;31mNameError\u001b[0m                                 Traceback (most recent call last)",
      "\u001b[1;32m~\\AppData\\Local\\Temp\\ipykernel_7464\\180940775.py\u001b[0m in \u001b[0;36m<module>\u001b[1;34m\u001b[0m\n\u001b[1;32m----> 1\u001b[1;33m \u001b[0mbst\u001b[0m \u001b[1;33m=\u001b[0m \u001b[0mBST\u001b[0m\u001b[1;33m(\u001b[0m\u001b[1;33m)\u001b[0m\u001b[1;33m\u001b[0m\u001b[1;33m\u001b[0m\u001b[0m\n\u001b[0m\u001b[0;32m      2\u001b[0m \u001b[0mprint\u001b[0m\u001b[1;33m(\u001b[0m\u001b[1;34m\"Insert 10, 3, 5, 2, 12, 11\"\u001b[0m\u001b[1;33m)\u001b[0m\u001b[1;33m\u001b[0m\u001b[1;33m\u001b[0m\u001b[0m\n\u001b[0;32m      3\u001b[0m \u001b[0mbst\u001b[0m\u001b[1;33m.\u001b[0m\u001b[0minsert_keys\u001b[0m\u001b[1;33m(\u001b[0m\u001b[1;33m[\u001b[0m\u001b[1;36m10\u001b[0m\u001b[1;33m,\u001b[0m \u001b[1;36m3\u001b[0m\u001b[1;33m,\u001b[0m \u001b[1;36m5\u001b[0m\u001b[1;33m,\u001b[0m \u001b[1;36m2\u001b[0m\u001b[1;33m,\u001b[0m \u001b[1;36m12\u001b[0m\u001b[1;33m,\u001b[0m \u001b[1;36m11\u001b[0m\u001b[1;33m]\u001b[0m\u001b[1;33m)\u001b[0m\u001b[1;33m\u001b[0m\u001b[1;33m\u001b[0m\u001b[0m\n\u001b[0;32m      4\u001b[0m \u001b[0mBSTViz\u001b[0m\u001b[1;33m(\u001b[0m\u001b[0mbst\u001b[0m\u001b[1;33m)\u001b[0m\u001b[1;33m.\u001b[0m\u001b[0mvisualize\u001b[0m\u001b[1;33m(\u001b[0m\u001b[1;33m)\u001b[0m\u001b[1;33m\u001b[0m\u001b[1;33m\u001b[0m\u001b[0m\n\u001b[0;32m      5\u001b[0m \u001b[0mnode\u001b[0m \u001b[1;33m=\u001b[0m \u001b[0mbst\u001b[0m\u001b[1;33m.\u001b[0m\u001b[0mfind\u001b[0m\u001b[1;33m(\u001b[0m\u001b[1;36m12\u001b[0m\u001b[1;33m)\u001b[0m\u001b[1;33m\u001b[0m\u001b[1;33m\u001b[0m\u001b[0m\n",
      "\u001b[1;31mNameError\u001b[0m: name 'BST' is not defined"
     ]
    }
   ],
   "source": [
    "# bst = BST()\n",
    "# print(\"Insert 10, 3, 5, 2, 12, 11\")\n",
    "# bst.insert_keys([10, 3, 5, 2, 12, 11])\n",
    "# BSTViz(bst).visualize()\n",
    "# node = bst.find(12)\n",
    "# print(\"Found: \" + node.to_string())"
   ]
  },
  {
   "cell_type": "code",
   "execution_count": 40,
   "id": "8e66885a",
   "metadata": {},
   "outputs": [],
   "source": [
    "import numpy as np\n",
    "import ipywidgets as widgets # for the interactive user interface\n",
    "from ipywidgets import interact, interactive_output, HBox, VBox, Layout\n",
    "from IPython.display import display, clear_output, SVG, HTML\n",
    "import graphviz as gv # for visualizing a tree using Digraph\n",
    "from graphviz import Digraph\n",
    "import pydot"
   ]
  },
  {
   "cell_type": "code",
   "execution_count": 39,
   "id": "529e3677",
   "metadata": {},
   "outputs": [
    {
     "name": "stdout",
     "output_type": "stream",
     "text": [
      "Collecting pydotNote: you may need to restart the kernel to use updated packages.\n",
      "\n",
      "  Downloading pydot-1.4.2-py2.py3-none-any.whl (21 kB)\n",
      "Requirement already satisfied: pyparsing>=2.1.4 in c:\\users\\u2021605\\anaconda3\\lib\\site-packages (from pydot) (3.0.9)\n",
      "Installing collected packages: pydot\n",
      "Successfully installed pydot-1.4.2\n"
     ]
    }
   ],
   "source": [
    "pip install pydot"
   ]
  },
  {
   "cell_type": "code",
   "execution_count": 42,
   "id": "1d94d978",
   "metadata": {},
   "outputs": [
    {
     "ename": "NameError",
     "evalue": "name 'BST' is not defined",
     "output_type": "error",
     "traceback": [
      "\u001b[1;31m---------------------------------------------------------------------------\u001b[0m",
      "\u001b[1;31mNameError\u001b[0m                                 Traceback (most recent call last)",
      "\u001b[1;32m~\\AppData\\Local\\Temp\\ipykernel_7464\\180940775.py\u001b[0m in \u001b[0;36m<module>\u001b[1;34m\u001b[0m\n\u001b[1;32m----> 1\u001b[1;33m \u001b[0mbst\u001b[0m \u001b[1;33m=\u001b[0m \u001b[0mBST\u001b[0m\u001b[1;33m(\u001b[0m\u001b[1;33m)\u001b[0m\u001b[1;33m\u001b[0m\u001b[1;33m\u001b[0m\u001b[0m\n\u001b[0m\u001b[0;32m      2\u001b[0m \u001b[0mprint\u001b[0m\u001b[1;33m(\u001b[0m\u001b[1;34m\"Insert 10, 3, 5, 2, 12, 11\"\u001b[0m\u001b[1;33m)\u001b[0m\u001b[1;33m\u001b[0m\u001b[1;33m\u001b[0m\u001b[0m\n\u001b[0;32m      3\u001b[0m \u001b[0mbst\u001b[0m\u001b[1;33m.\u001b[0m\u001b[0minsert_keys\u001b[0m\u001b[1;33m(\u001b[0m\u001b[1;33m[\u001b[0m\u001b[1;36m10\u001b[0m\u001b[1;33m,\u001b[0m \u001b[1;36m3\u001b[0m\u001b[1;33m,\u001b[0m \u001b[1;36m5\u001b[0m\u001b[1;33m,\u001b[0m \u001b[1;36m2\u001b[0m\u001b[1;33m,\u001b[0m \u001b[1;36m12\u001b[0m\u001b[1;33m,\u001b[0m \u001b[1;36m11\u001b[0m\u001b[1;33m]\u001b[0m\u001b[1;33m)\u001b[0m\u001b[1;33m\u001b[0m\u001b[1;33m\u001b[0m\u001b[0m\n\u001b[0;32m      4\u001b[0m \u001b[0mBSTViz\u001b[0m\u001b[1;33m(\u001b[0m\u001b[0mbst\u001b[0m\u001b[1;33m)\u001b[0m\u001b[1;33m.\u001b[0m\u001b[0mvisualize\u001b[0m\u001b[1;33m(\u001b[0m\u001b[1;33m)\u001b[0m\u001b[1;33m\u001b[0m\u001b[1;33m\u001b[0m\u001b[0m\n\u001b[0;32m      5\u001b[0m \u001b[0mnode\u001b[0m \u001b[1;33m=\u001b[0m \u001b[0mbst\u001b[0m\u001b[1;33m.\u001b[0m\u001b[0mfind\u001b[0m\u001b[1;33m(\u001b[0m\u001b[1;36m12\u001b[0m\u001b[1;33m)\u001b[0m\u001b[1;33m\u001b[0m\u001b[1;33m\u001b[0m\u001b[0m\n",
      "\u001b[1;31mNameError\u001b[0m: name 'BST' is not defined"
     ]
    }
   ],
   "source": [
    "#Graphviz Implementation\n",
    "# bst = BST()\n",
    "# print(\"Insert 10, 3, 5, 2, 12, 11\")\n",
    "# bst.insert_keys([10, 3, 5, 2, 12, 11])\n",
    "# BSTViz(bst).visualize()\n",
    "# node = bst.find(12)\n",
    "# print(\"Found: \" + node.to_string())"
   ]
  },
  {
   "cell_type": "code",
   "execution_count": null,
   "id": "15e3e66b",
   "metadata": {},
   "outputs": [],
   "source": []
  }
 ],
 "metadata": {
  "kernelspec": {
   "display_name": "Python 3 (ipykernel)",
   "language": "python",
   "name": "python3"
  },
  "language_info": {
   "codemirror_mode": {
    "name": "ipython",
    "version": 3
   },
   "file_extension": ".py",
   "mimetype": "text/x-python",
   "name": "python",
   "nbconvert_exporter": "python",
   "pygments_lexer": "ipython3",
   "version": "3.9.13"
  }
 },
 "nbformat": 4,
 "nbformat_minor": 5
}
